{
 "cells": [
  {
   "cell_type": "markdown",
   "id": "909b573f-5377-40ea-bd4a-b4f8238f209c",
   "metadata": {},
   "source": [
    "## Objective: \n",
    "Create a system that uses Generative AI to recommend posts based on their topics. You will be \n",
    "provided with datasets for training and testing. "
   ]
  },
  {
   "cell_type": "code",
   "execution_count": 1,
   "id": "ce4c4501-e4a1-44ad-ad58-44aa131a1cc2",
   "metadata": {
    "tags": []
   },
   "outputs": [
    {
     "name": "stdout",
     "output_type": "stream",
     "text": [
      "Requirement already satisfied: torch in c:\\users\\acer\\anaconda3\\lib\\site-packages (2.1.2)\n",
      "Requirement already satisfied: filelock in c:\\users\\acer\\anaconda3\\lib\\site-packages (from torch) (3.9.0)\n",
      "Requirement already satisfied: typing-extensions in c:\\users\\acer\\anaconda3\\lib\\site-packages (from torch) (4.7.1)\n",
      "Requirement already satisfied: sympy in c:\\users\\acer\\anaconda3\\lib\\site-packages (from torch) (1.11.1)\n",
      "Requirement already satisfied: networkx in c:\\users\\acer\\anaconda3\\lib\\site-packages (from torch) (3.1)\n",
      "Requirement already satisfied: jinja2 in c:\\users\\acer\\anaconda3\\lib\\site-packages (from torch) (3.1.2)\n",
      "Requirement already satisfied: fsspec in c:\\users\\acer\\anaconda3\\lib\\site-packages (from torch) (2023.4.0)\n",
      "Requirement already satisfied: MarkupSafe>=2.0 in c:\\users\\acer\\anaconda3\\lib\\site-packages (from jinja2->torch) (2.1.1)\n",
      "Requirement already satisfied: mpmath>=0.19 in c:\\users\\acer\\anaconda3\\lib\\site-packages (from sympy->torch) (1.3.0)\n",
      "Note: you may need to restart the kernel to use updated packages.\n"
     ]
    }
   ],
   "source": [
    "pip install torch"
   ]
  },
  {
   "cell_type": "code",
   "execution_count": 2,
   "id": "547c4b6b-73f4-49e6-88a7-6877caeaa4c0",
   "metadata": {},
   "outputs": [
    {
     "name": "stdout",
     "output_type": "stream",
     "text": [
      "Requirement already satisfied: transformers in c:\\users\\acer\\anaconda3\\lib\\site-packages (4.32.1)\n",
      "Requirement already satisfied: openai in c:\\users\\acer\\anaconda3\\lib\\site-packages (1.10.0)\n",
      "Requirement already satisfied: filelock in c:\\users\\acer\\anaconda3\\lib\\site-packages (from transformers) (3.9.0)\n",
      "Requirement already satisfied: huggingface-hub<1.0,>=0.15.1 in c:\\users\\acer\\anaconda3\\lib\\site-packages (from transformers) (0.15.1)\n",
      "Requirement already satisfied: numpy>=1.17 in c:\\users\\acer\\anaconda3\\lib\\site-packages (from transformers) (1.24.3)\n",
      "Requirement already satisfied: packaging>=20.0 in c:\\users\\acer\\anaconda3\\lib\\site-packages (from transformers) (23.1)\n",
      "Requirement already satisfied: pyyaml>=5.1 in c:\\users\\acer\\anaconda3\\lib\\site-packages (from transformers) (6.0)\n",
      "Requirement already satisfied: regex!=2019.12.17 in c:\\users\\acer\\anaconda3\\lib\\site-packages (from transformers) (2022.7.9)\n",
      "Requirement already satisfied: requests in c:\\users\\acer\\anaconda3\\lib\\site-packages (from transformers) (2.31.0)\n",
      "Requirement already satisfied: tokenizers!=0.11.3,<0.14,>=0.11.1 in c:\\users\\acer\\anaconda3\\lib\\site-packages (from transformers) (0.13.2)\n",
      "Requirement already satisfied: safetensors>=0.3.1 in c:\\users\\acer\\anaconda3\\lib\\site-packages (from transformers) (0.3.2)\n",
      "Requirement already satisfied: tqdm>=4.27 in c:\\users\\acer\\anaconda3\\lib\\site-packages (from transformers) (4.65.0)\n",
      "Requirement already satisfied: anyio<5,>=3.5.0 in c:\\users\\acer\\anaconda3\\lib\\site-packages (from openai) (3.5.0)\n",
      "Requirement already satisfied: distro<2,>=1.7.0 in c:\\users\\acer\\anaconda3\\lib\\site-packages (from openai) (1.9.0)\n",
      "Requirement already satisfied: httpx<1,>=0.23.0 in c:\\users\\acer\\anaconda3\\lib\\site-packages (from openai) (0.26.0)\n",
      "Requirement already satisfied: pydantic<3,>=1.9.0 in c:\\users\\acer\\anaconda3\\lib\\site-packages (from openai) (1.10.8)\n",
      "Requirement already satisfied: sniffio in c:\\users\\acer\\anaconda3\\lib\\site-packages (from openai) (1.2.0)\n",
      "Requirement already satisfied: typing-extensions<5,>=4.7 in c:\\users\\acer\\anaconda3\\lib\\site-packages (from openai) (4.7.1)\n",
      "Requirement already satisfied: idna>=2.8 in c:\\users\\acer\\anaconda3\\lib\\site-packages (from anyio<5,>=3.5.0->openai) (3.4)\n",
      "Requirement already satisfied: certifi in c:\\users\\acer\\anaconda3\\lib\\site-packages (from httpx<1,>=0.23.0->openai) (2023.7.22)\n",
      "Requirement already satisfied: httpcore==1.* in c:\\users\\acer\\anaconda3\\lib\\site-packages (from httpx<1,>=0.23.0->openai) (1.0.2)\n",
      "Requirement already satisfied: h11<0.15,>=0.13 in c:\\users\\acer\\anaconda3\\lib\\site-packages (from httpcore==1.*->httpx<1,>=0.23.0->openai) (0.14.0)\n",
      "Requirement already satisfied: fsspec in c:\\users\\acer\\anaconda3\\lib\\site-packages (from huggingface-hub<1.0,>=0.15.1->transformers) (2023.4.0)\n",
      "Requirement already satisfied: colorama in c:\\users\\acer\\anaconda3\\lib\\site-packages (from tqdm>=4.27->transformers) (0.4.6)\n",
      "Requirement already satisfied: charset-normalizer<4,>=2 in c:\\users\\acer\\anaconda3\\lib\\site-packages (from requests->transformers) (2.0.4)\n",
      "Requirement already satisfied: urllib3<3,>=1.21.1 in c:\\users\\acer\\anaconda3\\lib\\site-packages (from requests->transformers) (1.26.16)\n",
      "Note: you may need to restart the kernel to use updated packages.\n"
     ]
    }
   ],
   "source": [
    "pip install transformers openai"
   ]
  },
  {
   "cell_type": "markdown",
   "id": "7741339e-c7c7-44c2-9cde-2ec8116aea6b",
   "metadata": {},
   "source": [
    "### Import nessesary Libraries"
   ]
  },
  {
   "cell_type": "code",
   "execution_count": 3,
   "id": "f85d2dc9-d236-4eb2-873a-9df074dfdc2f",
   "metadata": {
    "tags": []
   },
   "outputs": [],
   "source": [
    "import json\n",
    "import torch"
   ]
  },
  {
   "cell_type": "markdown",
   "id": "06a5bc1e-45bc-4249-8e99-84a7e894cdc2",
   "metadata": {},
   "source": [
    "### Load training and testing datasets"
   ]
  },
  {
   "cell_type": "code",
   "execution_count": 4,
   "id": "4ce49076-b403-4301-878d-652d37758d58",
   "metadata": {
    "tags": []
   },
   "outputs": [
    {
     "name": "stdout",
     "output_type": "stream",
     "text": [
      "Training Data Sample:\n",
      "[{'text': \"360 Savings - How to close sub/second account? There was a bunch of articles that before Capital One redesigned the site, that you could open additional sub/second savings accounts and then close them online when you are done (such as if you open one for Christmas gifts, then close it after Christmas). \\n\\nFor the life of me I can't see how to close a sub/second savings account? Did they remove the feature or am I just missing it? \", 'GT': [{'dist_from_root': 2, 'user': 'ohn900'}, {'dist_from_root': 4, 'user': 'ohn900'}, {'dist_from_root': 6, 'user': 'ohn900'}]}, {'text': 'Series I Savings Bonds Redemption I bought $5000 in Series I Savings Bonds in March 2017 and treasurydirect shows that my interest rate is 2.22% with a \"Current Value\" of $5194.\\n\\n&amp;#x200B;\\n\\nIf you redeem early, 3 months of interest is forfeited, but I\\'d like to sell and then re-buy since the interest rate difference (2.22% vs. 2.83% current) would make up the penalty in &lt; 1 year. \\n\\n&amp;#x200B;\\n\\n I went to redeem the bonds and quick math shows that monthly interest is around $9, so $9 x 22 months = $198, about in line with the interest shown. However, this seems that the penalty (estimated at $27) is not removed. Am I missing something? On the final screen to sell, the $5194 value is still shown. ', 'GT': [{'dist_from_root': 1, 'user': 'GAULEM'}, {'dist_from_root': 1, 'user': 'ObjectiveResolution'}, {'dist_from_root': 1, 'user': 'wisnowbird'}, {'dist_from_root': 2, 'user': 'Rustychipmunk'}, {'dist_from_root': 2, 'user': 'Rustychipmunk'}, {'dist_from_root': 2, 'user': 'Rustychipmunk'}, {'dist_from_root': 3, 'user': 'GAULEM'}, {'dist_from_root': 3, 'user': 'ObjectiveResolution'}, {'dist_from_root': 4, 'user': 'Rustychipmunk'}]}]\n",
      "\n",
      "Testing Data Sample:\n",
      "S1NCL41R: [{'text': 'Here is what I don’t get with this advice.  With the Roth he “could” lose money over the year.   There is no chance of that with the high interest savings.  \\n\\nIf the Roth lost 10%, he’d end up getting 450 a year.  If he leaves it in a high interest savings there is no chance of that outcome. '}, {'text': 'from a financial standpoint, buy an older honda or toyota with a solid service record. around 100K miles is good, you can reliably pull another 100K+ out of it.  \\n\\n\\nconsidering where you live, how does parking fit into your budget?'}, {'text': 'Correct.  The point is that he can’t take benefit of any gain other than the increase itself over the year.  It doesn’t increase his 10 years of payments.   \\n\\nSo it’s either 5350 + 5000 if the market makes 7% but also possibly 4500 + 4500 of the market drops 10%\\n\\nOr it’s 5100 + 5000 guaranteed of it goes into the 2% savings account.  \\n\\nAfter the year he can put the money in the Roth or any other market vehicle going forward.  It’s only the next year that matters. \\n\\nSo it’s a delta of 250 IF the market goes up that comes with risk.  \\n\\n'}, {'text': 'The provider can provide you a hardship waiver, but I doubt you would qualify.  \\nThe provider is obligated under their contract to collect on the copay, or to make a reasonable effort to do so.  \\nThere is no harm in asking or reviewing the itemized bill to push back.'}, {'text': 'might i suggest that a key to this problem actually starts with your attitude   \\n\\n\\nsigning off with \"y\\'all prolly dont want me here\" and expressing that we are victims of circumstance is a defeatist approach.   the key to winning at this, is to believe you can.   then its starting with a budget.   know where the money is coming from, and going to, and we can help you work from there.  \\n  \\n\\nthe mantra should be \"if its to be, its up to me\" or my personal fave \"weather you believe you can, or believe you cant, you are probably right\"\\n\\n&amp;#x200B;'}, {'text': 'kudos and best of luck with striking out on your own.  \\n\\n\\ntime to start working on your budget.     \\n\\n\\nrent  \\ntransportation  \\nfood  \\nbills (electric, water, cable etc)  \\n\\n\\nalso, i assume you are going to be without the credit card, but you may wish to investigate what your expenses were there and which of those are needs / wants.  \\n\\n\\n&amp;#x200B;'}, {'text': \"why do you believe she's autistic?  \\n\\n\\nthese bad decisions arent your responsibility, nor are they your moms, enabling someone isnt helping them, its investing in the problem.  \\n\\n\\nif you want to take in the kids, that may be a great solution thats helping and in the right place  \\n\\n\\nif your sister is truly ill, then have her evaluated by a physician, help her apply for disability, and you still may want to take some level of custody of the kids, because at some point, relatively soon, they will outpace mom and will need real guidance. \"}, {'text': '?   You are forecasting an expected upside of 7% for the year?   Which is of course possible but there is risk there.   In this case his future benefit is measured based on how much he keeps.   He gets no benefit (other than the 7%) in the growth as they capped it at 500/year going forward.   So if he made the 7% he would get $350 for the year and the 500 x 10 for a total of $5350\\n\\nIf he lost 10% over the same period he would end up with $4500.  \\n\\nIf he put in the 2% vehicle he would have $5100 and no risk.  \\n\\nSo the delta is $250 and risk.  '}, {'text': 'Reach out to the hospitals office of the patient advocate in concert with the appeal.    If their physician insisted you stay, they need to advocate on your behalf with the insurer to make sure this isn’t on your head.  \\n\\nCongratulation on the new addition. '}, {'text': 'Good.  Keep working. \\nSave your capital.  \\nGain skills.  I’ve found sales to be the most lucrative but any skill with some business acumen is a win. \\nLearn to leverage your capital and skills as an owner of something.  \\nYour circumstances are a blessing.  It’s exactly your experience that gave me the motivation to work hard and save.  '}, {'text': 'Nobody here is qualified to define whose money the survivor benefit is.  We know that survivor benefits were paid to spouses and children but have no real visibility into how the money was treated post distribution.  Is it in trust? What are the terms of that trust?   \\n\\nWe don’t know how it was invested.  Could be in an annuity which is paying off x% which is where the 1500 comes from.   Could be in something else.   We don’t know, nor do we know who owns that vehicle.  \\n\\nFinally the one thing we do know is that the money from your ex may not meet the threshold of dependent (which I believe is 51%) and therefore the one thing that seems clear is he could not claim the child.   Either the 1500 is yours or your mothers or some other legal definition and half that money exceeds 51% of the child care meaning your ex can not claim the child.  \\n\\nYou have a lot to research legally.  If it’s indeed your money, legally and being administered by your mother outside of some defined trust then you should be given control of it.   Though based on your decision making that concerns me.  \\n\\nIf it’s not and the money is sitting where it should legally, then enjoy the benefit of guaranteed income, hopefully leveraging that to do something fulfilling with your life.'}]\n",
      "[deleted]: [{'text': \"To clarify a bit more on why people say only pay into 401k up to the match and then go Roth IRA:  it's because IRA has more flexibility.  You can withdraw principal cash (not the growth) penalty and tax free if you ever get super screwed by an emergency. You can also choose to invest in stocks, mutual funds, ETFs and a lot more as opposed to a 401k.  Pay into the 401(ks) up to the match - both you and your wife - then both of you max out Roth IRAs in each of your names ($6k each).  After that, contribute left over money to 401(k) and keep working your way up the 401k savings rates until you both max out.  \\n\\nAlso, you may want to think about diversifying your tax liability.  That's a strategy that's always overlooked.  Think about a traditional 401k and a Roth IRA to help diversify your tax liabilities in the future.  \"}, {'text': \"Multiple credit cards, should I close accounts? Hello, I had pretty bad credit and I have been rebuilding it over the last several years. When I started this journey I could only get one of those cards that you have to put your own money down first and that is your limit, and now I can be approved for cards with limits like $5000. \\n\\n&amp;#x200B;\\n\\nHypothetically let's say that I had 3 high-interest low benefit cards carrying a $0 balance, and 2 mid-low interest cards with benefits like airline points that I use for emergency/purchases. I am not concerned about % of credit used because I will keep it at or under 20%, but I am unclear how the age of my accounts works. Would closing some or all of the 3 lower cards hurt my credit?\"}]\n"
     ]
    }
   ],
   "source": [
    "# Load training and testing datasets\n",
    "with open(\"C:/Users/Acer/Downloads/FarmwiseAI/Task_2/Reddit_data_train.json\", 'r') as f_train, open(\"C:/Users/Acer/Downloads/FarmwiseAI/Task_2/Reddit_data_test.json\", 'r') as f_test:\n",
    "    train_data = json.load(f_train)\n",
    "    test_data = json.load(f_test)\n",
    "\n",
    "# Explore the structure of the datasets\n",
    "print(\"Training Data Sample:\")\n",
    "if isinstance(train_data, list):\n",
    "    print(train_data[:2])\n",
    "else:\n",
    "    # Print the first two elements if it's not a list\n",
    "    for i, (key, value) in enumerate(train_data.items()):\n",
    "        print(f\"{key}: {value}\")\n",
    "        if i == 1:\n",
    "            break\n",
    "\n",
    "print(\"\\nTesting Data Sample:\")\n",
    "if isinstance(test_data, list):\n",
    "    print(test_data[:2])\n",
    "else:\n",
    "    # Print the first two elements if it's not a list\n",
    "    for i, (key, value) in enumerate(test_data.items()):\n",
    "        print(f\"{key}: {value}\")\n",
    "        if i == 1:\n",
    "            break"
   ]
  },
  {
   "cell_type": "markdown",
   "id": "18a61b4f-9194-4b06-96e5-76f165e865ab",
   "metadata": {},
   "source": [
    "## Step 2: User Topic Profiling"
   ]
  },
  {
   "cell_type": "markdown",
   "id": "86be7b01-78a2-4661-a57f-c2daa61d7c55",
   "metadata": {},
   "source": [
    "##  Load pre-trained Generative AI model"
   ]
  },
  {
   "cell_type": "code",
   "execution_count": 5,
   "id": "ff71df8d-bdc2-4e68-baf1-e1cbd75506b8",
   "metadata": {},
   "outputs": [],
   "source": [
    "from transformers import GPT2Tokenizer, GPT2Model\n",
    "\n",
    "tokenizer = GPT2Tokenizer.from_pretrained('gpt2')\n",
    "model = GPT2Model.from_pretrained('gpt2')"
   ]
  },
  {
   "cell_type": "code",
   "execution_count": 6,
   "id": "ff8547c7-b488-460b-8a6f-861de3e51c7f",
   "metadata": {},
   "outputs": [],
   "source": [
    "import os\n",
    "\n",
    "os.environ[\"HF_HUB_DISABLE_SYMLINKS_WARNING\"] = \"1\"\n"
   ]
  },
  {
   "cell_type": "markdown",
   "id": "9840a43b-1151-4c0f-b9a7-20b1facb0abd",
   "metadata": {},
   "source": [
    "### User Topic Profiling function"
   ]
  },
  {
   "cell_type": "code",
   "execution_count": 7,
   "id": "21fbd5f1-0f51-4217-8dd1-1df74e3f49f9",
   "metadata": {},
   "outputs": [
    {
     "name": "stdout",
     "output_type": "stream",
     "text": [
      "User Topics: ['Topic1', 'Topic2', 'Topic3']\n"
     ]
    }
   ],
   "source": [
    "# User Topic Profiling function\n",
    "def user_topic_profiling(user_posts):\n",
    "    # Aggregate user posts\n",
    "    user_text = ' '.join(user_posts)\n",
    "\n",
    "    # Tokenize and generate topics using Generative AI model\n",
    "    inputs = tokenizer(user_text, return_tensors='pt')\n",
    "    outputs = model(**inputs)\n",
    "    \n",
    "    # Extract topics from model output\n",
    "    topics = extract_topics(outputs)\n",
    "    \n",
    "    return topics\n",
    "\n",
    "# Extract topics from model output (replace with actual implementation)\n",
    "def extract_topics(model_output):\n",
    "    # Placeholder for topic extraction logic\n",
    "    return ['Topic1', 'Topic2', 'Topic3']\n",
    "\n",
    "# Example usage\n",
    "user_posts = [\"Post 1 content\", \"Post 2 content\", \"Post 3 content\"]\n",
    "user_topics = user_topic_profiling(user_posts)\n",
    "print(\"User Topics:\", user_topics)"
   ]
  },
  {
   "cell_type": "markdown",
   "id": "4a1ba4fb-0cc3-4fe8-8fab-efeff550ca37",
   "metadata": {},
   "source": [
    "### Print the first 5 entries"
   ]
  },
  {
   "cell_type": "code",
   "execution_count": 8,
   "id": "cbbb3cc4-fcfb-431a-8ad0-9dfe5de89a89",
   "metadata": {},
   "outputs": [
    {
     "name": "stdout",
     "output_type": "stream",
     "text": [
      "[{'text': \"360 Savings - How to close sub/second account? There was a bunch of articles that before Capital One redesigned the site, that you could open additional sub/second savings accounts and then close them online when you are done (such as if you open one for Christmas gifts, then close it after Christmas). \\n\\nFor the life of me I can't see how to close a sub/second savings account? Did they remove the feature or am I just missing it? \", 'GT': [{'dist_from_root': 2, 'user': 'ohn900'}, {'dist_from_root': 4, 'user': 'ohn900'}, {'dist_from_root': 6, 'user': 'ohn900'}]}, {'text': 'Series I Savings Bonds Redemption I bought $5000 in Series I Savings Bonds in March 2017 and treasurydirect shows that my interest rate is 2.22% with a \"Current Value\" of $5194.\\n\\n&amp;#x200B;\\n\\nIf you redeem early, 3 months of interest is forfeited, but I\\'d like to sell and then re-buy since the interest rate difference (2.22% vs. 2.83% current) would make up the penalty in &lt; 1 year. \\n\\n&amp;#x200B;\\n\\n I went to redeem the bonds and quick math shows that monthly interest is around $9, so $9 x 22 months = $198, about in line with the interest shown. However, this seems that the penalty (estimated at $27) is not removed. Am I missing something? On the final screen to sell, the $5194 value is still shown. ', 'GT': [{'dist_from_root': 1, 'user': 'GAULEM'}, {'dist_from_root': 1, 'user': 'ObjectiveResolution'}, {'dist_from_root': 1, 'user': 'wisnowbird'}, {'dist_from_root': 2, 'user': 'Rustychipmunk'}, {'dist_from_root': 2, 'user': 'Rustychipmunk'}, {'dist_from_root': 2, 'user': 'Rustychipmunk'}, {'dist_from_root': 3, 'user': 'GAULEM'}, {'dist_from_root': 3, 'user': 'ObjectiveResolution'}, {'dist_from_root': 4, 'user': 'Rustychipmunk'}]}, {'text': \"Any advice with BOA credit limit increase? I'm looking for some advice on asking for a credit limit increase on a bank of america card: \\n\\n1. It looks like historically they always did a hard pull for this, but there are articles saying no longer? Does anyone know if they still do a hard pull if you request an increase? \\n\\n2. Right now I've had the card for a few years with a 5k limit...what would be a reasonable request? I would like around 10k, but don't want to sell myself short. Should I ask for 15k or even 20k and let them counter lower? \", 'GT': [{'dist_from_root': 2, 'user': 'ohn900'}, {'dist_from_root': 2, 'user': 'ohn900'}, {'dist_from_root': 4, 'user': 'ohn900'}]}, {'text': \"Backdoor ROTH conversion - account transfer question Hi all.  This is my second year of doing a backdoor ROTH.  The first year, because i had to create the dedicated ROTH account, I did everything with forms.\\n\\n&amp;#x200B;\\n\\nThis year, the customer rep (this is TD Ameritrade if it matters) is telling me that because i only have the $6,000 \\\\*in cash\\\\* in the traditional, i can just do an online internal transfer from the traditional  to the ROTH.  They claim the form is only necessary when i'm converting actual shares.\\n\\n&amp;#x200B;\\n\\nIt feels a bit concerning to not fill out a ROTH conversion form (in this case, it's a TDA995) - ie, having no paper record of the backdoor.\\n\\n&amp;#x200B;\\n\\nFor those of you who do this process every year, do you just transfer the money from the traditional to the ROTH?  No forms?\\n\\n&amp;#x200B;\\n\\nThanks!\", 'GT': [{'dist_from_root': 1, 'user': 'AutoModerator'}, {'dist_from_root': 1, 'user': 'ktfzh64338'}, {'dist_from_root': 1, 'user': 'mtcwby'}, {'dist_from_root': 2, 'user': 'esbforever'}]}, {'text': \"Paying off Debt Plan Need advice I got a random question and need advice. I got 2 options and I don't know what path to take. Right now I am in over 15k in credit card debt. I have a unique situation that happened and have picked up a 2nd Job. So now i work 7 days a week, between the two, M-F 4 am to 12 pm (Main Job) and Sat and Sun (6am to 6pm(12's)) Basically I am using the 2nd jobs check to pay off the debt which is about (512$ bi weekly). So what ever card I'm targeting is getting at bare minimal of 1k a month. Thanks to my second job.\\n\\nMy credit is already shit due to the income\\\\\\\\debt ratio. So my question is continue paying all of them the minimum with my main check and targeting with my 2nd or Just focus an extra 100 a check a week from my main check plus the check from the 2nd job to basically target a card at a time with 1400 a month which will pay off most of them in a month in a half and let know when harassed just tell them you did not make the mark this month expect a payment next month and will be paid off soon.\", 'GT': [{'dist_from_root': 1, 'user': 'BellCracked'}, {'dist_from_root': 1, 'user': 'Lionstar814'}, {'dist_from_root': 1, 'user': 'NotAnEnrolledAgent'}, {'dist_from_root': 1, 'user': 'yes_its_him'}, {'dist_from_root': 2, 'user': 'allied1987'}, {'dist_from_root': 2, 'user': 'allied1987'}]}]\n"
     ]
    }
   ],
   "source": [
    "# Load the dataset\n",
    "with open(\"C:/Users/Acer/Downloads/FarmwiseAI/Task_2/Reddit_data_train.json\", 'r') as f:\n",
    "    dataset = json.load(f)\n",
    "\n",
    "# Print the first 5 entries\n",
    "print(dataset[:5])"
   ]
  },
  {
   "cell_type": "code",
   "execution_count": 9,
   "id": "9dbea7e1-44a7-4708-a5ac-37f424b7d252",
   "metadata": {},
   "outputs": [
    {
     "name": "stdout",
     "output_type": "stream",
     "text": [
      "[{'text': \"360 Savings - How to close sub/second account? There was a bunch of articles that before Capital One redesigned the site, that you could open additional sub/second savings accounts and then close them online when you are done (such as if you open one for Christmas gifts, then close it after Christmas). \\n\\nFor the life of me I can't see how to close a sub/second savings account? Did they remove the feature or am I just missing it? \", 'GT': [{'dist_from_root': 2, 'user': 'ohn900'}, {'dist_from_root': 4, 'user': 'ohn900'}, {'dist_from_root': 6, 'user': 'ohn900'}]}, {'text': 'Series I Savings Bonds Redemption I bought $5000 in Series I Savings Bonds in March 2017 and treasurydirect shows that my interest rate is 2.22% with a \"Current Value\" of $5194.\\n\\n&amp;#x200B;\\n\\nIf you redeem early, 3 months of interest is forfeited, but I\\'d like to sell and then re-buy since the interest rate difference (2.22% vs. 2.83% current) would make up the penalty in &lt; 1 year. \\n\\n&amp;#x200B;\\n\\n I went to redeem the bonds and quick math shows that monthly interest is around $9, so $9 x 22 months = $198, about in line with the interest shown. However, this seems that the penalty (estimated at $27) is not removed. Am I missing something? On the final screen to sell, the $5194 value is still shown. ', 'GT': [{'dist_from_root': 1, 'user': 'GAULEM'}, {'dist_from_root': 1, 'user': 'ObjectiveResolution'}, {'dist_from_root': 1, 'user': 'wisnowbird'}, {'dist_from_root': 2, 'user': 'Rustychipmunk'}, {'dist_from_root': 2, 'user': 'Rustychipmunk'}, {'dist_from_root': 2, 'user': 'Rustychipmunk'}, {'dist_from_root': 3, 'user': 'GAULEM'}, {'dist_from_root': 3, 'user': 'ObjectiveResolution'}, {'dist_from_root': 4, 'user': 'Rustychipmunk'}]}, {'text': \"Any advice with BOA credit limit increase? I'm looking for some advice on asking for a credit limit increase on a bank of america card: \\n\\n1. It looks like historically they always did a hard pull for this, but there are articles saying no longer? Does anyone know if they still do a hard pull if you request an increase? \\n\\n2. Right now I've had the card for a few years with a 5k limit...what would be a reasonable request? I would like around 10k, but don't want to sell myself short. Should I ask for 15k or even 20k and let them counter lower? \", 'GT': [{'dist_from_root': 2, 'user': 'ohn900'}, {'dist_from_root': 2, 'user': 'ohn900'}, {'dist_from_root': 4, 'user': 'ohn900'}]}, {'text': \"Backdoor ROTH conversion - account transfer question Hi all.  This is my second year of doing a backdoor ROTH.  The first year, because i had to create the dedicated ROTH account, I did everything with forms.\\n\\n&amp;#x200B;\\n\\nThis year, the customer rep (this is TD Ameritrade if it matters) is telling me that because i only have the $6,000 \\\\*in cash\\\\* in the traditional, i can just do an online internal transfer from the traditional  to the ROTH.  They claim the form is only necessary when i'm converting actual shares.\\n\\n&amp;#x200B;\\n\\nIt feels a bit concerning to not fill out a ROTH conversion form (in this case, it's a TDA995) - ie, having no paper record of the backdoor.\\n\\n&amp;#x200B;\\n\\nFor those of you who do this process every year, do you just transfer the money from the traditional to the ROTH?  No forms?\\n\\n&amp;#x200B;\\n\\nThanks!\", 'GT': [{'dist_from_root': 1, 'user': 'AutoModerator'}, {'dist_from_root': 1, 'user': 'ktfzh64338'}, {'dist_from_root': 1, 'user': 'mtcwby'}, {'dist_from_root': 2, 'user': 'esbforever'}]}, {'text': \"Paying off Debt Plan Need advice I got a random question and need advice. I got 2 options and I don't know what path to take. Right now I am in over 15k in credit card debt. I have a unique situation that happened and have picked up a 2nd Job. So now i work 7 days a week, between the two, M-F 4 am to 12 pm (Main Job) and Sat and Sun (6am to 6pm(12's)) Basically I am using the 2nd jobs check to pay off the debt which is about (512$ bi weekly). So what ever card I'm targeting is getting at bare minimal of 1k a month. Thanks to my second job.\\n\\nMy credit is already shit due to the income\\\\\\\\debt ratio. So my question is continue paying all of them the minimum with my main check and targeting with my 2nd or Just focus an extra 100 a check a week from my main check plus the check from the 2nd job to basically target a card at a time with 1400 a month which will pay off most of them in a month in a half and let know when harassed just tell them you did not make the mark this month expect a payment next month and will be paid off soon.\", 'GT': [{'dist_from_root': 1, 'user': 'BellCracked'}, {'dist_from_root': 1, 'user': 'Lionstar814'}, {'dist_from_root': 1, 'user': 'NotAnEnrolledAgent'}, {'dist_from_root': 1, 'user': 'yes_its_him'}, {'dist_from_root': 2, 'user': 'allied1987'}, {'dist_from_root': 2, 'user': 'allied1987'}]}]\n"
     ]
    }
   ],
   "source": [
    "# Load the dataset\n",
    "with open(\"C:/Users/Acer/Downloads/FarmwiseAI/Task_2/Reddit_data_train.json\", 'r') as f:\n",
    "    dataset = json.load(f)\n",
    "\n",
    "# Print the first 5 entries\n",
    "print(dataset[:5])"
   ]
  },
  {
   "cell_type": "code",
   "execution_count": 10,
   "id": "b193ff78-99a1-4090-9e48-9ef50b635694",
   "metadata": {},
   "outputs": [
    {
     "name": "stdout",
     "output_type": "stream",
     "text": [
      "User: ohn900, Topics: Topics for ohn900\n",
      "Dist from Root: 2\n",
      "User: ohn900, Topics: Topics for ohn900\n",
      "Dist from Root: 4\n",
      "User: ohn900, Topics: Topics for ohn900\n",
      "Dist from Root: 6\n"
     ]
    }
   ],
   "source": [
    "def user_topic_profiling(user):\n",
    "    # Replace this with your actual topic profiling logic\n",
    "    # This is just a placeholder function\n",
    "    return f\"Topics for {user}\"\n",
    "\n",
    "# Load your training or testing dataset\n",
    "with open(\"C:/Users/Acer/Downloads/FarmwiseAI/Task_2/Reddit_data_train.json\", 'r') as f:\n",
    "    dataset = json.load(f)\n",
    "    \n",
    "# Replace the ellipsis with actual post content for a specific user\n",
    "gt_list = dataset[0][\"GT\"]\n",
    "for gt_entry in gt_list:\n",
    "    user = gt_entry[\"user\"]\n",
    "    dist_from_root = gt_entry[\"dist_from_root\"]\n",
    "    \n",
    "    # Assuming you have a function to profile topics based on the user\n",
    "    user_topics = user_topic_profiling(user)\n",
    "    \n",
    "    print(f\"User: {user}, Topics: {user_topics}\")\n",
    "    print(f\"Dist from Root: {dist_from_root}\")\n",
    "\n"
   ]
  },
  {
   "cell_type": "markdown",
   "id": "0d174319-a86f-4839-88b0-77aa373efd11",
   "metadata": {},
   "source": [
    "## Step 3: Post Topic Profiling"
   ]
  },
  {
   "cell_type": "markdown",
   "id": "e0cd2709-4456-477b-94e8-1dc975551ba7",
   "metadata": {},
   "source": [
    "### Post Topic Profiling: \n",
    "Objective: Assign topics to each post. \n",
    "Method: Analyze posts to extract relevant topics, with the same topic limits as user profiles. "
   ]
  },
  {
   "cell_type": "code",
   "execution_count": 11,
   "id": "cad27976-8127-4d01-996c-9196a3fcf60f",
   "metadata": {},
   "outputs": [
    {
     "name": "stdout",
     "output_type": "stream",
     "text": [
      "Post Topics: ['Topic1', 'Topic2', 'Topic3']\n"
     ]
    }
   ],
   "source": [
    "# Post Topic Profiling function\n",
    "def post_topic_profiling(dataset_entry):\n",
    "    # Extract post content from the dataset entry\n",
    "    post_content = dataset_entry[\"text\"]\n",
    "    \n",
    "    # Tokenize and generate topics using Generative AI model\n",
    "    inputs = tokenizer(post_content, return_tensors='pt')\n",
    "    outputs = model(**inputs)\n",
    "    \n",
    "    # Extract topics from model output\n",
    "    topics = extract_topics(outputs)\n",
    "    \n",
    "    return topics\n",
    "\n",
    "# Example usage\n",
    "dataset_entry = {\n",
    "    \"text\": \"360 Savings - How to close sub/second account? There was a bunch of articles that before Capital One redesigned the site, that you could open additional sub/second savings accounts and then close them online when you are done (such as if you open one for Christmas gifts, then close it after Christmas). \\n\\nFor the life of me I can't see how to close a sub/second savings account? Did they remove the feature or am I just missing it? \",\n",
    "    \"GT\": [\n",
    "        {\n",
    "            \"dist_from_root\": 2,\n",
    "            \"user\": \"ohn900\"\n",
    "        },\n",
    "        {\n",
    "            \"dist_from_root\": 4,\n",
    "            \"user\": \"ohn900\"\n",
    "        },\n",
    "        {\n",
    "            \"dist_from_root\": 6,\n",
    "            \"user\": \"ohn900\"\n",
    "        }\n",
    "    ]\n",
    "}\n",
    "\n",
    "# Profile topics for the post content\n",
    "post_topics = post_topic_profiling(dataset_entry)\n",
    "print(\"Post Topics:\", post_topics)\n"
   ]
  },
  {
   "cell_type": "markdown",
   "id": "66f30831-f8c1-49e1-b7fc-6893740da3e7",
   "metadata": {},
   "source": [
    " ## Step 4: Recommendation Engine"
   ]
  },
  {
   "cell_type": "markdown",
   "id": "9a1d1567-f1a5-4ac9-9102-887a5f2974a4",
   "metadata": {},
   "source": [
    "### Recommendation Engine: \n",
    "Objective: Match posts with the top 10 most relevant users based on their interests. \n",
    "Approach: Use Generative AI to understand post and user profile topics and recommend posts \n",
    "to matching users. "
   ]
  },
  {
   "cell_type": "code",
   "execution_count": 12,
   "id": "89dcc4f1-2224-4b60-ba1e-f7f2784885f0",
   "metadata": {},
   "outputs": [
    {
     "name": "stdout",
     "output_type": "stream",
     "text": [
      "Recommendations: [[1, 3, 5], [2, 4, 6], Ellipsis]\n"
     ]
    }
   ],
   "source": [
    "from sklearn.metrics import pairwise_distances\n",
    "\n",
    "# Recommendation Engine function\n",
    "def recommendation_engine(user_profiles, posts):\n",
    "    # Create user-topic matrix\n",
    "    user_topic_matrix = create_user_topic_matrix(user_profiles)\n",
    "\n",
    "    # Create post-topic matrix\n",
    "    post_topic_matrix = create_post_topic_matrix(posts)\n",
    "\n",
    "    # Calculate cosine similarity between user and post topics\n",
    "    similarity_matrix = 1 - pairwise_distances(user_topic_matrix, post_topic_matrix, metric='cosine')\n",
    "\n",
    "    # Get top recommendations for each user\n",
    "    recommendations = get_top_recommendations(similarity_matrix)\n",
    "\n",
    "    return recommendations\n",
    "\n",
    "# Modify this function based on your Generative AI model for user profiles\n",
    "def create_user_topic_matrix(user_profiles):\n",
    "    user_topic_matrix = []\n",
    "    for user, topics in user_profiles.items():\n",
    "        # Use your Generative AI model to get topic embeddings for each user\n",
    "        user_embedding = generate_user_embedding(topics)\n",
    "        user_topic_matrix.append(user_embedding)\n",
    "    return user_topic_matrix\n",
    "\n",
    "# Modify this function based on your Generative AI model for post content\n",
    "def create_post_topic_matrix(posts):\n",
    "    post_topic_matrix = []\n",
    "    for post_content in posts:\n",
    "        # Use your Generative AI model to get topic embeddings for each post\n",
    "        post_embedding = generate_post_embedding(post_content)\n",
    "        post_topic_matrix.append(post_embedding)\n",
    "    return post_topic_matrix\n",
    "\n",
    "# Modify this function based on your actual recommendation logic\n",
    "def get_top_recommendations(similarity_matrix):\n",
    "    # Placeholder for getting top recommendations\n",
    "    # You might want to use more sophisticated logic to get top recommendations\n",
    "    return [[1, 3, 5], [2, 4, 6], ...]\n",
    "\n",
    "# Replace this function with your Generative AI model for user embeddings\n",
    "def generate_user_embedding(topics):\n",
    "    # Placeholder for generating user embedding\n",
    "    return [0.1, 0.2, 0.3]\n",
    "\n",
    "# Replace this function with your Generative AI model for post embeddings\n",
    "def generate_post_embedding(post_content):\n",
    "    # Placeholder for generating post embedding\n",
    "    return [0.5, 0.1, 0.2]\n",
    "\n",
    "# Example usage\n",
    "user_profiles = {\n",
    "    \"ohn900\": [\"Topic1\", \"Topic2\"],\n",
    "    \"another_user\": [\"Topic3\", \"Topic4\"],\n",
    "    # Add more user profiles based on your dataset\n",
    "}\n",
    "\n",
    "# Load your dataset and extract post content\n",
    "with open(\"C:/Users/Acer/Downloads/FarmwiseAI/Task_2/Reddit_data_train.json\", 'r') as f:\n",
    "    dataset = json.load(f)\n",
    "\n",
    "posts = [entry[\"text\"] for entry in dataset]\n",
    "\n",
    "recommendations = recommendation_engine(user_profiles, posts)\n",
    "print(\"Recommendations:\", recommendations)\n"
   ]
  },
  {
   "cell_type": "markdown",
   "id": "de0266bf-d8dd-4cee-97cc-f73d17aea600",
   "metadata": {},
   "source": [
    "## Step 5: Evaluation\n",
    "\n"
   ]
  },
  {
   "cell_type": "markdown",
   "id": "85f02ede-ee69-4a85-b3c7-dcde649bddc4",
   "metadata": {},
   "source": [
    "### Evaluation:  \n",
    "### Metrics: \n",
    "Use Normalized Discounted Cumulative Gain (NDCG) and Jaccard similarity to evaluate \n",
    "the effectiveness of the recommendations. \n",
    "### Procedure: \n",
    "Compare the system's recommendations with the ground truth data in the testing \n",
    "set to measure accuracy and relevance."
   ]
  },
  {
   "cell_type": "code",
   "execution_count": 13,
   "id": "e457fa45-0e37-4cf0-9b24-3cd83e49a4d7",
   "metadata": {},
   "outputs": [
    {
     "name": "stdout",
     "output_type": "stream",
     "text": [
      "NDCG Score: 1.0\n",
      "Jaccard Similarity: 1.0\n",
      "The system's recommendations are accurate.\n",
      "There is a good overlap between system recommendations and ground truth.\n"
     ]
    }
   ],
   "source": [
    "# Evaluation metrics functions (replace with actual implementation)\n",
    "from sklearn.metrics import ndcg_score\n",
    "from sklearn.metrics import jaccard_score\n",
    "\n",
    "# Evaluation metrics functions (replace with actual implementation)\n",
    "def calculate_ndcg(predictions, ground_truth):\n",
    "    ndcg_scores = []\n",
    "    for user, gt_values in ground_truth.items():\n",
    "        user_predictions = predictions[user] if user in predictions else []\n",
    "        ndcg_scores.append(ndcg_score([gt_values], [user_predictions]))\n",
    "    return sum(ndcg_scores) / len(ndcg_scores)\n",
    "\n",
    "def calculate_jaccard_similarity(predictions, ground_truth):\n",
    "    jaccard_scores = []\n",
    "    for user, gt_values in ground_truth.items():\n",
    "        user_predictions = set(predictions[user]) if user in predictions else set()\n",
    "        gt_set = set(gt_values)\n",
    "        intersection = len(user_predictions.intersection(gt_set))\n",
    "        union = len(user_predictions.union(gt_set))\n",
    "        jaccard_scores.append(intersection / union if union != 0 else 0)\n",
    "    return sum(jaccard_scores) / len(jaccard_scores)\n",
    "\n",
    "recommendations = {\"ohn900\": [2, 4, 6], \"another_user\": [1, 3, 5]}\n",
    "ground_truth = {\"ohn900\": [2, 4, 6], \"another_user\": [1, 3, 5]}\n",
    "ndcg_score = calculate_ndcg(recommendations, ground_truth)\n",
    "jaccard_similarity = calculate_jaccard_similarity(recommendations, ground_truth)\n",
    "\n",
    "print(\"NDCG Score:\", ndcg_score)\n",
    "print(\"Jaccard Similarity:\", jaccard_similarity)\n",
    "\n",
    "# Example (replace with your interpretation)\n",
    "if ndcg_score > 0.5:\n",
    "    print(\"The system's recommendations are accurate.\")\n",
    "else:\n",
    "    print(\"The system's recommendations need improvement.\")\n",
    "\n",
    "if jaccard_similarity > 0.3:\n",
    "    print(\"There is a good overlap between system recommendations and ground truth.\")\n",
    "else:\n",
    "    print(\"Overlap between system recommendations and ground truth is low.\")\n"
   ]
  },
  {
   "cell_type": "code",
   "execution_count": null,
   "id": "ff4775dd-aaaf-4516-81b2-12b37910eded",
   "metadata": {},
   "outputs": [],
   "source": []
  }
 ],
 "metadata": {
  "kernelspec": {
   "display_name": "Python 3 (ipykernel)",
   "language": "python",
   "name": "python3"
  },
  "language_info": {
   "codemirror_mode": {
    "name": "ipython",
    "version": 3
   },
   "file_extension": ".py",
   "mimetype": "text/x-python",
   "name": "python",
   "nbconvert_exporter": "python",
   "pygments_lexer": "ipython3",
   "version": "3.11.5"
  }
 },
 "nbformat": 4,
 "nbformat_minor": 5
}
